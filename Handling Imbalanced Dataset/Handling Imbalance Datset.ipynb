{
 "cells": [
  {
   "metadata": {},
   "cell_type": "markdown",
   "source": "Handling Imbalance Dataset",
   "id": "14b2154f6269044c"
  },
  {
   "metadata": {},
   "cell_type": "markdown",
   "source": [
    "1. Up sampling\n",
    "2. Down Sampling"
   ],
   "id": "f10983af73f85ac0"
  },
  {
   "metadata": {
    "ExecuteTime": {
     "end_time": "2025-07-13T02:50:51.056281Z",
     "start_time": "2025-07-13T02:50:51.054142Z"
    }
   },
   "cell_type": "code",
   "source": "import numpy as np",
   "id": "bacde81719dcc9a4",
   "outputs": [],
   "execution_count": 1
  },
  {
   "metadata": {
    "ExecuteTime": {
     "end_time": "2025-07-13T02:50:55.135800Z",
     "start_time": "2025-07-13T02:50:55.133167Z"
    }
   },
   "cell_type": "code",
   "source": "import pandas as pd",
   "id": "a8861d82b5a74082",
   "outputs": [],
   "execution_count": 2
  },
  {
   "metadata": {
    "ExecuteTime": {
     "end_time": "2025-07-13T02:51:06.936682Z",
     "start_time": "2025-07-13T02:51:06.934084Z"
    }
   },
   "cell_type": "code",
   "source": "np.random.seed(123)",
   "id": "bb30eb40ac396c30",
   "outputs": [],
   "execution_count": 4
  },
  {
   "metadata": {
    "ExecuteTime": {
     "end_time": "2025-07-13T02:51:33.985988Z",
     "start_time": "2025-07-13T02:51:33.983851Z"
    }
   },
   "cell_type": "code",
   "source": "n_sample = 1000",
   "id": "e8f77a0c4340f710",
   "outputs": [],
   "execution_count": 5
  },
  {
   "metadata": {
    "ExecuteTime": {
     "end_time": "2025-07-13T02:51:46.237064Z",
     "start_time": "2025-07-13T02:51:46.233767Z"
    }
   },
   "cell_type": "code",
   "source": "class_0_ratio = 0.9",
   "id": "25a764a674afd5b7",
   "outputs": [],
   "execution_count": 6
  },
  {
   "metadata": {
    "ExecuteTime": {
     "end_time": "2025-07-13T03:01:27.243765Z",
     "start_time": "2025-07-13T03:01:27.239959Z"
    }
   },
   "cell_type": "code",
   "source": [
    "n_class_0 = int(n_sample * class_0_ratio)\n",
    "n_class_0"
   ],
   "id": "d8d8e5c322810ae7",
   "outputs": [
    {
     "data": {
      "text/plain": [
       "900"
      ]
     },
     "execution_count": 38,
     "metadata": {},
     "output_type": "execute_result"
    }
   ],
   "execution_count": 38
  },
  {
   "metadata": {
    "ExecuteTime": {
     "end_time": "2025-07-13T02:52:57.089686Z",
     "start_time": "2025-07-13T02:52:57.086638Z"
    }
   },
   "cell_type": "code",
   "source": "n_class_1 = n_sample - n_class_0",
   "id": "31b8211202f97369",
   "outputs": [],
   "execution_count": 10
  },
  {
   "metadata": {
    "ExecuteTime": {
     "end_time": "2025-07-13T02:53:15.156773Z",
     "start_time": "2025-07-13T02:53:15.153602Z"
    }
   },
   "cell_type": "code",
   "source": "n_class_0,n_class_1",
   "id": "baea2d1a99172d7e",
   "outputs": [
    {
     "data": {
      "text/plain": [
       "(900, 100)"
      ]
     },
     "execution_count": 12,
     "metadata": {},
     "output_type": "execute_result"
    }
   ],
   "execution_count": 12
  },
  {
   "metadata": {
    "ExecuteTime": {
     "end_time": "2025-07-13T02:53:37.023832Z",
     "start_time": "2025-07-13T02:53:37.021508Z"
    }
   },
   "cell_type": "code",
   "source": "# create Data set with Imbalance Dataset",
   "id": "3ccebc582bc5eed5",
   "outputs": [],
   "execution_count": 13
  },
  {
   "metadata": {
    "ExecuteTime": {
     "end_time": "2025-07-13T02:57:20.343027Z",
     "start_time": "2025-07-13T02:57:20.339875Z"
    }
   },
   "cell_type": "code",
   "source": "class_0 = pd.DataFrame({'feature1': np.random.normal(0, 1, n_class_0),'feature2': np.random.normal(0, 1, n_class_0), 'target':[0] * n_class_0})",
   "id": "bcd1c48e1359f373",
   "outputs": [],
   "execution_count": 27
  },
  {
   "metadata": {
    "ExecuteTime": {
     "end_time": "2025-07-13T02:57:23.974562Z",
     "start_time": "2025-07-13T02:57:23.971500Z"
    }
   },
   "cell_type": "code",
   "source": "class_0.shape",
   "id": "c89d365f4df215aa",
   "outputs": [
    {
     "data": {
      "text/plain": [
       "(900, 3)"
      ]
     },
     "execution_count": 28,
     "metadata": {},
     "output_type": "execute_result"
    }
   ],
   "execution_count": 28
  },
  {
   "metadata": {
    "ExecuteTime": {
     "end_time": "2025-07-13T02:57:24.666743Z",
     "start_time": "2025-07-13T02:57:24.662924Z"
    }
   },
   "cell_type": "code",
   "source": "class_0.head()",
   "id": "4e303730af8abc1",
   "outputs": [
    {
     "data": {
      "text/plain": [
       "   feature1  feature2  target\n",
       "0  0.370481 -1.018751       0\n",
       "1  0.280004 -0.610749       0\n",
       "2 -1.072627 -0.569931       0\n",
       "3 -0.383345  1.150658       0\n",
       "4  0.006061  1.694467       0"
      ],
      "text/html": [
       "<div>\n",
       "<style scoped>\n",
       "    .dataframe tbody tr th:only-of-type {\n",
       "        vertical-align: middle;\n",
       "    }\n",
       "\n",
       "    .dataframe tbody tr th {\n",
       "        vertical-align: top;\n",
       "    }\n",
       "\n",
       "    .dataframe thead th {\n",
       "        text-align: right;\n",
       "    }\n",
       "</style>\n",
       "<table border=\"1\" class=\"dataframe\">\n",
       "  <thead>\n",
       "    <tr style=\"text-align: right;\">\n",
       "      <th></th>\n",
       "      <th>feature1</th>\n",
       "      <th>feature2</th>\n",
       "      <th>target</th>\n",
       "    </tr>\n",
       "  </thead>\n",
       "  <tbody>\n",
       "    <tr>\n",
       "      <th>0</th>\n",
       "      <td>0.370481</td>\n",
       "      <td>-1.018751</td>\n",
       "      <td>0</td>\n",
       "    </tr>\n",
       "    <tr>\n",
       "      <th>1</th>\n",
       "      <td>0.280004</td>\n",
       "      <td>-0.610749</td>\n",
       "      <td>0</td>\n",
       "    </tr>\n",
       "    <tr>\n",
       "      <th>2</th>\n",
       "      <td>-1.072627</td>\n",
       "      <td>-0.569931</td>\n",
       "      <td>0</td>\n",
       "    </tr>\n",
       "    <tr>\n",
       "      <th>3</th>\n",
       "      <td>-0.383345</td>\n",
       "      <td>1.150658</td>\n",
       "      <td>0</td>\n",
       "    </tr>\n",
       "    <tr>\n",
       "      <th>4</th>\n",
       "      <td>0.006061</td>\n",
       "      <td>1.694467</td>\n",
       "      <td>0</td>\n",
       "    </tr>\n",
       "  </tbody>\n",
       "</table>\n",
       "</div>"
      ]
     },
     "execution_count": 29,
     "metadata": {},
     "output_type": "execute_result"
    }
   ],
   "execution_count": 29
  },
  {
   "metadata": {
    "ExecuteTime": {
     "end_time": "2025-07-13T02:57:07.897399Z",
     "start_time": "2025-07-13T02:57:07.894516Z"
    }
   },
   "cell_type": "code",
   "source": "class_1= pd.DataFrame({'feature1': np.random.normal(2, 1, n_class_1),'feature2': np.random.normal(2, 1, n_class_1), 'target':[1] * n_class_1})",
   "id": "d49b75b9da56f8ff",
   "outputs": [],
   "execution_count": 24
  },
  {
   "metadata": {
    "ExecuteTime": {
     "end_time": "2025-07-13T02:57:11.948615Z",
     "start_time": "2025-07-13T02:57:11.945702Z"
    }
   },
   "cell_type": "code",
   "source": "class_1.shape",
   "id": "534fead7c66e0cdb",
   "outputs": [
    {
     "data": {
      "text/plain": [
       "(100, 3)"
      ]
     },
     "execution_count": 25,
     "metadata": {},
     "output_type": "execute_result"
    }
   ],
   "execution_count": 25
  },
  {
   "metadata": {
    "ExecuteTime": {
     "end_time": "2025-07-13T02:57:30.097843Z",
     "start_time": "2025-07-13T02:57:30.093503Z"
    }
   },
   "cell_type": "code",
   "source": "class_1.head()",
   "id": "a627b75d4a5b8824",
   "outputs": [
    {
     "data": {
      "text/plain": [
       "   feature1  feature2  target\n",
       "0  0.225776  1.411440       1\n",
       "1  0.798623  1.950911       1\n",
       "2  3.096257  1.658300       1\n",
       "3  2.861037  2.504139       1\n",
       "4  0.479633  3.567392       1"
      ],
      "text/html": [
       "<div>\n",
       "<style scoped>\n",
       "    .dataframe tbody tr th:only-of-type {\n",
       "        vertical-align: middle;\n",
       "    }\n",
       "\n",
       "    .dataframe tbody tr th {\n",
       "        vertical-align: top;\n",
       "    }\n",
       "\n",
       "    .dataframe thead th {\n",
       "        text-align: right;\n",
       "    }\n",
       "</style>\n",
       "<table border=\"1\" class=\"dataframe\">\n",
       "  <thead>\n",
       "    <tr style=\"text-align: right;\">\n",
       "      <th></th>\n",
       "      <th>feature1</th>\n",
       "      <th>feature2</th>\n",
       "      <th>target</th>\n",
       "    </tr>\n",
       "  </thead>\n",
       "  <tbody>\n",
       "    <tr>\n",
       "      <th>0</th>\n",
       "      <td>0.225776</td>\n",
       "      <td>1.411440</td>\n",
       "      <td>1</td>\n",
       "    </tr>\n",
       "    <tr>\n",
       "      <th>1</th>\n",
       "      <td>0.798623</td>\n",
       "      <td>1.950911</td>\n",
       "      <td>1</td>\n",
       "    </tr>\n",
       "    <tr>\n",
       "      <th>2</th>\n",
       "      <td>3.096257</td>\n",
       "      <td>1.658300</td>\n",
       "      <td>1</td>\n",
       "    </tr>\n",
       "    <tr>\n",
       "      <th>3</th>\n",
       "      <td>2.861037</td>\n",
       "      <td>2.504139</td>\n",
       "      <td>1</td>\n",
       "    </tr>\n",
       "    <tr>\n",
       "      <th>4</th>\n",
       "      <td>0.479633</td>\n",
       "      <td>3.567392</td>\n",
       "      <td>1</td>\n",
       "    </tr>\n",
       "  </tbody>\n",
       "</table>\n",
       "</div>"
      ]
     },
     "execution_count": 30,
     "metadata": {},
     "output_type": "execute_result"
    }
   ],
   "execution_count": 30
  },
  {
   "metadata": {
    "ExecuteTime": {
     "end_time": "2025-07-13T02:58:11.034556Z",
     "start_time": "2025-07-13T02:58:11.031056Z"
    }
   },
   "cell_type": "code",
   "source": "df=pd.concat([class_0, class_1]).reset_index(drop=True)",
   "id": "9ef5d7ec67b4ea0b",
   "outputs": [],
   "execution_count": 32
  },
  {
   "metadata": {
    "ExecuteTime": {
     "end_time": "2025-07-13T02:58:17.452833Z",
     "start_time": "2025-07-13T02:58:17.450186Z"
    }
   },
   "cell_type": "code",
   "source": "df.shape",
   "id": "65f2d39deb957d38",
   "outputs": [
    {
     "data": {
      "text/plain": [
       "(1000, 3)"
      ]
     },
     "execution_count": 33,
     "metadata": {},
     "output_type": "execute_result"
    }
   ],
   "execution_count": 33
  },
  {
   "metadata": {
    "ExecuteTime": {
     "end_time": "2025-07-13T02:58:21.895204Z",
     "start_time": "2025-07-13T02:58:21.891132Z"
    }
   },
   "cell_type": "code",
   "source": "df.head()",
   "id": "a8dd54a039dcf5a",
   "outputs": [
    {
     "data": {
      "text/plain": [
       "   feature1  feature2  target\n",
       "0  0.370481 -1.018751       0\n",
       "1  0.280004 -0.610749       0\n",
       "2 -1.072627 -0.569931       0\n",
       "3 -0.383345  1.150658       0\n",
       "4  0.006061  1.694467       0"
      ],
      "text/html": [
       "<div>\n",
       "<style scoped>\n",
       "    .dataframe tbody tr th:only-of-type {\n",
       "        vertical-align: middle;\n",
       "    }\n",
       "\n",
       "    .dataframe tbody tr th {\n",
       "        vertical-align: top;\n",
       "    }\n",
       "\n",
       "    .dataframe thead th {\n",
       "        text-align: right;\n",
       "    }\n",
       "</style>\n",
       "<table border=\"1\" class=\"dataframe\">\n",
       "  <thead>\n",
       "    <tr style=\"text-align: right;\">\n",
       "      <th></th>\n",
       "      <th>feature1</th>\n",
       "      <th>feature2</th>\n",
       "      <th>target</th>\n",
       "    </tr>\n",
       "  </thead>\n",
       "  <tbody>\n",
       "    <tr>\n",
       "      <th>0</th>\n",
       "      <td>0.370481</td>\n",
       "      <td>-1.018751</td>\n",
       "      <td>0</td>\n",
       "    </tr>\n",
       "    <tr>\n",
       "      <th>1</th>\n",
       "      <td>0.280004</td>\n",
       "      <td>-0.610749</td>\n",
       "      <td>0</td>\n",
       "    </tr>\n",
       "    <tr>\n",
       "      <th>2</th>\n",
       "      <td>-1.072627</td>\n",
       "      <td>-0.569931</td>\n",
       "      <td>0</td>\n",
       "    </tr>\n",
       "    <tr>\n",
       "      <th>3</th>\n",
       "      <td>-0.383345</td>\n",
       "      <td>1.150658</td>\n",
       "      <td>0</td>\n",
       "    </tr>\n",
       "    <tr>\n",
       "      <th>4</th>\n",
       "      <td>0.006061</td>\n",
       "      <td>1.694467</td>\n",
       "      <td>0</td>\n",
       "    </tr>\n",
       "  </tbody>\n",
       "</table>\n",
       "</div>"
      ]
     },
     "execution_count": 34,
     "metadata": {},
     "output_type": "execute_result"
    }
   ],
   "execution_count": 34
  },
  {
   "metadata": {
    "ExecuteTime": {
     "end_time": "2025-07-13T02:58:50.105034Z",
     "start_time": "2025-07-13T02:58:50.100452Z"
    }
   },
   "cell_type": "code",
   "source": "df.tail()",
   "id": "f94bcfe96c40fa10",
   "outputs": [
    {
     "data": {
      "text/plain": [
       "     feature1  feature2  target\n",
       "995  3.754312  2.519677       1\n",
       "996  1.282109  0.423376       1\n",
       "997  1.176808  2.398328       1\n",
       "998  3.535918  1.888590       1\n",
       "999  3.307740  2.060793       1"
      ],
      "text/html": [
       "<div>\n",
       "<style scoped>\n",
       "    .dataframe tbody tr th:only-of-type {\n",
       "        vertical-align: middle;\n",
       "    }\n",
       "\n",
       "    .dataframe tbody tr th {\n",
       "        vertical-align: top;\n",
       "    }\n",
       "\n",
       "    .dataframe thead th {\n",
       "        text-align: right;\n",
       "    }\n",
       "</style>\n",
       "<table border=\"1\" class=\"dataframe\">\n",
       "  <thead>\n",
       "    <tr style=\"text-align: right;\">\n",
       "      <th></th>\n",
       "      <th>feature1</th>\n",
       "      <th>feature2</th>\n",
       "      <th>target</th>\n",
       "    </tr>\n",
       "  </thead>\n",
       "  <tbody>\n",
       "    <tr>\n",
       "      <th>995</th>\n",
       "      <td>3.754312</td>\n",
       "      <td>2.519677</td>\n",
       "      <td>1</td>\n",
       "    </tr>\n",
       "    <tr>\n",
       "      <th>996</th>\n",
       "      <td>1.282109</td>\n",
       "      <td>0.423376</td>\n",
       "      <td>1</td>\n",
       "    </tr>\n",
       "    <tr>\n",
       "      <th>997</th>\n",
       "      <td>1.176808</td>\n",
       "      <td>2.398328</td>\n",
       "      <td>1</td>\n",
       "    </tr>\n",
       "    <tr>\n",
       "      <th>998</th>\n",
       "      <td>3.535918</td>\n",
       "      <td>1.888590</td>\n",
       "      <td>1</td>\n",
       "    </tr>\n",
       "    <tr>\n",
       "      <th>999</th>\n",
       "      <td>3.307740</td>\n",
       "      <td>2.060793</td>\n",
       "      <td>1</td>\n",
       "    </tr>\n",
       "  </tbody>\n",
       "</table>\n",
       "</div>"
      ]
     },
     "execution_count": 35,
     "metadata": {},
     "output_type": "execute_result"
    }
   ],
   "execution_count": 35
  },
  {
   "metadata": {
    "ExecuteTime": {
     "end_time": "2025-07-13T02:59:08.119801Z",
     "start_time": "2025-07-13T02:59:08.116049Z"
    }
   },
   "cell_type": "code",
   "source": "df.target.value_counts()",
   "id": "4f0054dd03d589fc",
   "outputs": [
    {
     "data": {
      "text/plain": [
       "target\n",
       "0    900\n",
       "1    100\n",
       "Name: count, dtype: int64"
      ]
     },
     "execution_count": 36,
     "metadata": {},
     "output_type": "execute_result"
    }
   ],
   "execution_count": 36
  },
  {
   "metadata": {},
   "cell_type": "markdown",
   "source": "## upsampling",
   "id": "d5c9f7588b3826cd"
  },
  {
   "metadata": {
    "ExecuteTime": {
     "end_time": "2025-07-13T03:03:50.507484Z",
     "start_time": "2025-07-13T03:03:50.504718Z"
    }
   },
   "cell_type": "code",
   "source": [
    "df_majority = df[df['target']==0]\n",
    "df_minority = df[df['target'] == 1]"
   ],
   "id": "a3403051536df16",
   "outputs": [],
   "execution_count": 45
  },
  {
   "metadata": {
    "ExecuteTime": {
     "end_time": "2025-07-13T03:16:43.559233Z",
     "start_time": "2025-07-13T03:16:43.377642Z"
    }
   },
   "cell_type": "code",
   "source": "from sklearn.utils import resample",
   "id": "22261a9d4cffb46c",
   "outputs": [],
   "execution_count": 48
  },
  {
   "metadata": {
    "ExecuteTime": {
     "end_time": "2025-07-13T03:18:27.606538Z",
     "start_time": "2025-07-13T03:18:27.603134Z"
    }
   },
   "cell_type": "code",
   "source": "df_minority_upsampled = resample(df_minority, replace=True, n_samples = len(df_majority), random_state=42)",
   "id": "b4070120800bd17e",
   "outputs": [],
   "execution_count": 50
  },
  {
   "metadata": {
    "ExecuteTime": {
     "end_time": "2025-07-13T03:19:08.191236Z",
     "start_time": "2025-07-13T03:19:08.188380Z"
    }
   },
   "cell_type": "code",
   "source": "df_minority_upsampled.shape",
   "id": "7113e063d83b2180",
   "outputs": [
    {
     "data": {
      "text/plain": [
       "(900, 3)"
      ]
     },
     "execution_count": 51,
     "metadata": {},
     "output_type": "execute_result"
    }
   ],
   "execution_count": 51
  },
  {
   "metadata": {
    "ExecuteTime": {
     "end_time": "2025-07-13T03:19:47.046564Z",
     "start_time": "2025-07-13T03:19:47.041209Z"
    }
   },
   "cell_type": "code",
   "source": "df_minority_upsampled.head()",
   "id": "329c9b1b8a8afe12",
   "outputs": [
    {
     "data": {
      "text/plain": [
       "     feature1  feature2  target\n",
       "951  1.012428  2.412112       1\n",
       "992  3.678069  2.059386       1\n",
       "914  1.890879  2.698921       1\n",
       "971  2.961969  1.074533       1\n",
       "960  3.529014  0.676564       1"
      ],
      "text/html": [
       "<div>\n",
       "<style scoped>\n",
       "    .dataframe tbody tr th:only-of-type {\n",
       "        vertical-align: middle;\n",
       "    }\n",
       "\n",
       "    .dataframe tbody tr th {\n",
       "        vertical-align: top;\n",
       "    }\n",
       "\n",
       "    .dataframe thead th {\n",
       "        text-align: right;\n",
       "    }\n",
       "</style>\n",
       "<table border=\"1\" class=\"dataframe\">\n",
       "  <thead>\n",
       "    <tr style=\"text-align: right;\">\n",
       "      <th></th>\n",
       "      <th>feature1</th>\n",
       "      <th>feature2</th>\n",
       "      <th>target</th>\n",
       "    </tr>\n",
       "  </thead>\n",
       "  <tbody>\n",
       "    <tr>\n",
       "      <th>951</th>\n",
       "      <td>1.012428</td>\n",
       "      <td>2.412112</td>\n",
       "      <td>1</td>\n",
       "    </tr>\n",
       "    <tr>\n",
       "      <th>992</th>\n",
       "      <td>3.678069</td>\n",
       "      <td>2.059386</td>\n",
       "      <td>1</td>\n",
       "    </tr>\n",
       "    <tr>\n",
       "      <th>914</th>\n",
       "      <td>1.890879</td>\n",
       "      <td>2.698921</td>\n",
       "      <td>1</td>\n",
       "    </tr>\n",
       "    <tr>\n",
       "      <th>971</th>\n",
       "      <td>2.961969</td>\n",
       "      <td>1.074533</td>\n",
       "      <td>1</td>\n",
       "    </tr>\n",
       "    <tr>\n",
       "      <th>960</th>\n",
       "      <td>3.529014</td>\n",
       "      <td>0.676564</td>\n",
       "      <td>1</td>\n",
       "    </tr>\n",
       "  </tbody>\n",
       "</table>\n",
       "</div>"
      ]
     },
     "execution_count": 52,
     "metadata": {},
     "output_type": "execute_result"
    }
   ],
   "execution_count": 52
  },
  {
   "metadata": {
    "ExecuteTime": {
     "end_time": "2025-07-13T03:21:52.988801Z",
     "start_time": "2025-07-13T03:21:52.986519Z"
    }
   },
   "cell_type": "code",
   "source": "df_upsampled=pd.concat([df_majority,df_minority_upsampled])",
   "id": "e1aeb58f9cff9c7f",
   "outputs": [],
   "execution_count": 58
  },
  {
   "metadata": {
    "ExecuteTime": {
     "end_time": "2025-07-13T03:21:53.830702Z",
     "start_time": "2025-07-13T03:21:53.827320Z"
    }
   },
   "cell_type": "code",
   "source": "df_upsampled['target'].value_counts()",
   "id": "9260f2688756423a",
   "outputs": [
    {
     "data": {
      "text/plain": [
       "target\n",
       "0    900\n",
       "1    900\n",
       "Name: count, dtype: int64"
      ]
     },
     "execution_count": 59,
     "metadata": {},
     "output_type": "execute_result"
    }
   ],
   "execution_count": 59
  },
  {
   "metadata": {},
   "cell_type": "markdown",
   "source": "# Down Sampling",
   "id": "6d71220eba8fdc97"
  },
  {
   "metadata": {
    "ExecuteTime": {
     "end_time": "2025-07-13T03:23:11.022309Z",
     "start_time": "2025-07-13T03:23:11.018567Z"
    }
   },
   "cell_type": "code",
   "source": [
    "df_majority = df[df['target']==0]\n",
    "df_minority = df[df['target'] == 1]"
   ],
   "id": "72bc4a52d09b289a",
   "outputs": [],
   "execution_count": 60
  },
  {
   "metadata": {
    "ExecuteTime": {
     "end_time": "2025-07-13T03:26:30.517589Z",
     "start_time": "2025-07-13T03:26:30.514036Z"
    }
   },
   "cell_type": "code",
   "source": [
    "df_majority_downsampled = resample(df_majority, n_samples=len(df_minority), random_state=42)\n",
    "df_majority_downsampled.shape"
   ],
   "id": "96495d27d5deb0d8",
   "outputs": [
    {
     "data": {
      "text/plain": [
       "(100, 3)"
      ]
     },
     "execution_count": 66,
     "metadata": {},
     "output_type": "execute_result"
    }
   ],
   "execution_count": 66
  },
  {
   "metadata": {
    "ExecuteTime": {
     "end_time": "2025-07-13T03:26:33.562961Z",
     "start_time": "2025-07-13T03:26:33.559355Z"
    }
   },
   "cell_type": "code",
   "source": "df_downsampled=pd.concat([df_minority,df_majority_downsampled])",
   "id": "d6147261bdb78ae7",
   "outputs": [],
   "execution_count": 67
  },
  {
   "metadata": {
    "ExecuteTime": {
     "end_time": "2025-07-13T03:27:16.028683Z",
     "start_time": "2025-07-13T03:27:16.024846Z"
    }
   },
   "cell_type": "code",
   "source": "df_downsampled['target'].value_counts()",
   "id": "ecefe40007a9038b",
   "outputs": [
    {
     "data": {
      "text/plain": [
       "target\n",
       "1    100\n",
       "0    100\n",
       "Name: count, dtype: int64"
      ]
     },
     "execution_count": 69,
     "metadata": {},
     "output_type": "execute_result"
    }
   ],
   "execution_count": 69
  },
  {
   "metadata": {},
   "cell_type": "code",
   "outputs": [],
   "execution_count": null,
   "source": "",
   "id": "c300ac75338230c2"
  }
 ],
 "metadata": {
  "kernelspec": {
   "display_name": "Python 3",
   "language": "python",
   "name": "python3"
  },
  "language_info": {
   "codemirror_mode": {
    "name": "ipython",
    "version": 2
   },
   "file_extension": ".py",
   "mimetype": "text/x-python",
   "name": "python",
   "nbconvert_exporter": "python",
   "pygments_lexer": "ipython2",
   "version": "2.7.6"
  }
 },
 "nbformat": 4,
 "nbformat_minor": 5
}
